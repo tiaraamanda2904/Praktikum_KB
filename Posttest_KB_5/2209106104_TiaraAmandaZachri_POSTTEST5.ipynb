{
  "nbformat": 4,
  "nbformat_minor": 0,
  "metadata": {
    "colab": {
      "provenance": [],
      "gpuType": "T4"
    },
    "kernelspec": {
      "name": "python3",
      "display_name": "Python 3"
    },
    "language_info": {
      "name": "python"
    },
    "accelerator": "GPU"
  },
  "cells": [
    {
      "cell_type": "markdown",
      "source": [
        "<font size=\"15\">**POSTTEST 2**</font>"
      ],
      "metadata": {
        "id": "6s5vkZDug8x1"
      }
    },
    {
      "cell_type": "markdown",
      "source": [
        "##Menampilkan rata-rata, standar deviasi, nilai minimum, nilai maksimum, Q1, Q2, dan Q3 dari attribute bertipe angka.\n"
      ],
      "metadata": {
        "id": "4W2UrCK7zcWc"
      }
    },
    {
      "cell_type": "code",
      "source": [
        "import pandas as pd\n",
        "\n",
        "df = pd.read_csv('mbadataset.csv') #membaca dataset\n",
        "df_numeric = df[['gpa', 'gmat', 'work_exp']] #memlih atribute bertipe angka\n",
        "\n",
        "desc_stats = df_numeric.describe() #menghitung data statik bertipe angka dengan number\n",
        "desc_stats.rename(index={'mean': 'Rata-rata', 'std': 'Standar Deviasi', 'min': 'Nilai Minimum', 'max': 'Nilai Maximum' ,'25%': 'Q1', '50%': 'Q2', '75%': 'Q3'}, inplace=True) # digunakan untuk mengganti nama\n",
        "\n",
        "print(desc_stats) #menampilan seluruh data statik"
      ],
      "metadata": {
        "colab": {
          "base_uri": "https://localhost:8080/"
        },
        "id": "uYqmgcq3g9bx",
        "outputId": "9f72b998-e27e-4bc8-fbc5-b15c4ee43c7b"
      },
      "execution_count": 24,
      "outputs": [
        {
          "output_type": "stream",
          "name": "stdout",
          "text": [
            "                         gpa         gmat     work_exp\n",
            "count            6194.000000  6194.000000  6194.000000\n",
            "Rata-rata           3.250714   651.092993     5.016952\n",
            "Standar Deviasi     0.151541    49.294883     1.032432\n",
            "Nilai Minimum       2.650000   570.000000     1.000000\n",
            "Q1                  3.150000   610.000000     4.000000\n",
            "Q2                  3.250000   650.000000     5.000000\n",
            "Q3                  3.350000   680.000000     6.000000\n",
            "Nilai Maximum       3.770000   780.000000     9.000000\n"
          ]
        }
      ]
    },
    {
      "cell_type": "markdown",
      "source": [
        "## Menampilkan 10 record pertama dari dataset dengan attribute bertipe angka."
      ],
      "metadata": {
        "id": "mz2zQM-ohYV4"
      }
    },
    {
      "cell_type": "code",
      "source": [
        "df_numeric = df.select_dtypes(include='number') #memlih atribute bertipe angka\n",
        "print(df_numeric.head(10)) #menampilakn record/baris pertama"
      ],
      "metadata": {
        "colab": {
          "base_uri": "https://localhost:8080/"
        },
        "id": "71WDUcWM7bn7",
        "outputId": "1d3ed3f8-0d02-49e3-c090-4ea3a3e38c9b"
      },
      "execution_count": 25,
      "outputs": [
        {
          "output_type": "stream",
          "name": "stdout",
          "text": [
            "   application_id   gpa   gmat  work_exp\n",
            "0               1  3.30  620.0       3.0\n",
            "1               2  3.28  680.0       5.0\n",
            "2               3  3.30  710.0       5.0\n",
            "3               4  3.47  690.0       6.0\n",
            "4               5  3.35  590.0       5.0\n",
            "5               6  3.18  610.0       6.0\n",
            "6               7  2.93  590.0       3.0\n",
            "7               8  3.02  630.0       6.0\n",
            "8               9  3.24  590.0       2.0\n",
            "9              10  3.27  690.0       3.0\n"
          ]
        }
      ]
    },
    {
      "cell_type": "markdown",
      "source": [
        "## Menampilkan informasi jumlah record, jumlah attribute, nama attribute, jumlah attribute dengan tipe angka."
      ],
      "metadata": {
        "id": "gUqM8kfFgWDs"
      }
    },
    {
      "cell_type": "code",
      "source": [
        "#menghitung jumlah record dan jumlah atribut\n",
        "jumlah_record = df.shape[0]  # Jumlah baris dihitung dari index 0 karena baris pertama adalah indeks 0\n",
        "jumlah_atribute = df.shape[1]  # Jumlah kolom dihitung dari jumlah atribut\n",
        "\n",
        "nama_atribute = df.columns.tolist() #menampilkan nama atribute\n",
        "\n",
        "jumlah_atribute_angka = df.select_dtypes(include='number').shape[1] #menampilkan jumlah atribute yang bertipe angka\n",
        "\n",
        "print(f\"Jumlah Record: {jumlah_record}\")\n",
        "print(f\"Jumlah Atribut: {jumlah_atribute}\")\n",
        "print(f\"Nama Atribut: {nama_atribute}\")\n",
        "print(f\"Jumlah Atribut dengan Tipe Angka: {jumlah_atribute_angka}\")"
      ],
      "metadata": {
        "colab": {
          "base_uri": "https://localhost:8080/"
        },
        "id": "_A59D7cb7k4p",
        "outputId": "8bafdb03-4507-4ccb-f107-fd460ba0e711"
      },
      "execution_count": 26,
      "outputs": [
        {
          "output_type": "stream",
          "name": "stdout",
          "text": [
            "Jumlah Record: 6194\n",
            "Jumlah Atribut: 10\n",
            "Nama Atribut: ['application_id', 'gender', 'international', 'gpa', 'major', 'race', 'gmat', 'work_exp', 'work_industry', 'admission']\n",
            "Jumlah Atribut dengan Tipe Angka: 4\n"
          ]
        }
      ]
    },
    {
      "cell_type": "markdown",
      "source": [
        "##Menampilkan jumlah label dari semua attribute yang bernilai object"
      ],
      "metadata": {
        "id": "e5fHaRCJl_Uy"
      }
    },
    {
      "cell_type": "code",
      "source": [
        "df_object = df.select_dtypes(include='object') #memilih atribute bertipe object\n",
        "jumlah_label = df_object.nunique() #menghitung jumlah label unik untuk setiap atribut\n",
        "\n",
        "print(jumlah_label)"
      ],
      "metadata": {
        "colab": {
          "base_uri": "https://localhost:8080/"
        },
        "id": "ZrGyXfIw7xcp",
        "outputId": "81c72424-d782-4ac3-bbad-3e88cb61eab4"
      },
      "execution_count": 27,
      "outputs": [
        {
          "output_type": "stream",
          "name": "stdout",
          "text": [
            "gender            2\n",
            "major             3\n",
            "race              5\n",
            "work_industry    14\n",
            "admission         2\n",
            "dtype: int64\n"
          ]
        }
      ]
    },
    {
      "cell_type": "markdown",
      "source": [
        "##Memvisualisasikan dataset menggunakan Grafik Batang"
      ],
      "metadata": {
        "id": "SxVlScc9mhQv"
      }
    },
    {
      "cell_type": "code",
      "source": [
        "import matplotlib.pyplot as plt\n",
        "\n",
        "major_counts = df['major'].value_counts() #menghitung frekuensi setiap major\n",
        "\n",
        "# Membuat grafik batang\n",
        "plt.figure(figsize=(10, 6))\n",
        "major_counts.plot(kind='bar', color='pink')\n",
        "plt.title('Distribusi Peminat Program Studi Pada jenjang MBA')\n",
        "plt.xlabel('Major')\n",
        "plt.ylabel('Jumlah')\n",
        "plt.xticks(rotation=360)\n",
        "plt.show()\n",
        "\n"
      ],
      "metadata": {
        "colab": {
          "base_uri": "https://localhost:8080/",
          "height": 564
        },
        "id": "DTg-sghg78d0",
        "outputId": "fddf02ef-073e-4743-a222-9d5a497cbc2d"
      },
      "execution_count": 28,
      "outputs": [
        {
          "output_type": "display_data",
          "data": {
            "text/plain": [
              "<Figure size 1000x600 with 1 Axes>"
            ],
            "image/png": "[encoded data removed]"
          },
          "metadata": {}
        }
      ]
    },
    {
      "cell_type": "markdown",
      "source": [
        "## Menampilkan korelasi dataset menggunakan heatmap."
      ],
      "metadata": {
        "id": "Ui2MLepAvDaC"
      }
    },
    {
      "cell_type": "code",
      "source": [
        "import seaborn as sns\n",
        "\n",
        "df_numeric = df.select_dtypes(include='number') #memilih atribute bertipe angka\n",
        "\n",
        "cor_matrix = df_numeric.corr() #mengnghitung matriks korelasi\n",
        "sns.heatmap(cor_matrix, cmap='coolwarm', annot=True, center=0)\n",
        "plt.title('Heatmap Korelasi pada Atribute yang bernilai Angka')\n",
        "plt.show()\n"
      ],
      "metadata": {
        "colab": {
          "base_uri": "https://localhost:8080/",
          "height": 452
        },
        "id": "mJKpnP5z8Ue7",
        "outputId": "f01c25a6-3201-4267-fc8d-011fc0dafb28"
      },
      "execution_count": 29,
      "outputs": [
        {
          "output_type": "display_data",
          "data": {
            "text/plain": [
              "<Figure size 640x480 with 2 Axes>"
            ],
            "image/png": "[encoded data removed]"
          },
          "metadata": {}
        }
      ]
    },
    {
      "cell_type": "markdown",
      "source": [
        "# KESIMPULAN\n",
        "\n",
        "1. Hasil dari data statik dataset ini menunjukkan bahwa Sebagian besar kandidat memiliki GPA yang cukup baik, dengan skor GMAT antara 610 dan 680, dan work_exp rata-rata 4 hingga 6 tahun.\n",
        "\n",
        "2. Data numerik dari sepuluh record awal ini memberikan gambaran awal tentang variasi di antara kandidat dalam hal GPA, GMAT, dan work_exp.\n",
        "\n",
        "3. Jumlah record menunjukkan banyaknya entri dalam dataset, sedangkan jumlah atribut mencerminkan fitur atau variabel yang digunakan untuk analisis. Nama atribut membantu kita untuk memahami data yang tersedia, dan jumlah atribut bertipe angka menunjukkan fitur numerik yang dapat digunakan dalam analisis statistik.\n",
        "\n",
        "4. Atribut bertipe object memiliki beragam label unik, yang mencerminkan variasi data . Hal ini membantu kita untuk memahami distribusi data non-numerik dalam dataset ini.\n",
        "\n",
        "5. Grafik batang ini memberikan gambaran yang jelas tentang peminat setiap program studi dalam jenjang MBA, membantu untuk mengidentifikasi program studi yang paling diminati dan distribusi minat mahasiswa.\n",
        "\n",
        "6. Heatmap korelasi memberikan wawasan yang jelas tentang hubungan antar atribut numerik dalam dataset. Ini sangat berguna untuk mengidentifikasi variabel mana yang dapat berinteraksi erat."
      ],
      "metadata": {
        "id": "oqnEjjCV8qSx"
      }
    },
    {
      "cell_type": "markdown",
      "source": [
        "<font size=\"15\">**POSTTEST 3**</font>"
      ],
      "metadata": {
        "id": "t7PGIqoIyybG"
      }
    },
    {
      "cell_type": "markdown",
      "source": [
        "#Membaca Dataset"
      ],
      "metadata": {
        "id": "UWfYeG8NPIxX"
      }
    },
    {
      "cell_type": "markdown",
      "source": [
        "Pada baris ini mengimpor pustaka pandas dan memberinya alias pd dan  menggunakan fungsi read_csv() dari pustaka pandas untuk membaca file CSV bernama mbadataset.csv."
      ],
      "metadata": {
        "id": "t_N9yWJvsHqd"
      }
    },
    {
      "cell_type": "code",
      "source": [
        "import pandas as pd\n",
        "df = pd.read_csv('mbadataset.csv')"
      ],
      "metadata": {
        "id": "zNNmV6tDPMOs"
      },
      "execution_count": 30,
      "outputs": []
    },
    {
      "cell_type": "markdown",
      "source": [
        "#pengecekan missing value"
      ],
      "metadata": {
        "id": "VEyecj2VL8Tr"
      }
    },
    {
      "cell_type": "markdown",
      "source": [
        "Fungsi ini digunakan untuk menunjukkan apakah setiap elemen dalam DataFrame df adalah null (hilang)."
      ],
      "metadata": {
        "id": "zQ3tOCulscM0"
      }
    },
    {
      "cell_type": "code",
      "source": [
        "df.isnull().sum()"
      ],
      "metadata": {
        "colab": {
          "base_uri": "https://localhost:8080/",
          "height": 397
        },
        "id": "ZDFiNpsjL7m9",
        "outputId": "7ba8798b-3a9e-4332-c084-8dd1bc6c4796"
      },
      "execution_count": 31,
      "outputs": [
        {
          "output_type": "execute_result",
          "data": {
            "text/plain": [
              "application_id       0\n",
              "gender               0\n",
              "international        0\n",
              "gpa                  0\n",
              "major                0\n",
              "race              1842\n",
              "gmat                 0\n",
              "work_exp             0\n",
              "work_industry        0\n",
              "admission         5194\n",
              "dtype: int64"
            ],
            "text/html": [
              "<div>\n",
              "<style scoped>\n",
              "    .dataframe tbody tr th:only-of-type {\n",
              "        vertical-align: middle;\n",
              "    }\n",
              "\n",
              "    .dataframe tbody tr th {\n",
              "        vertical-align: top;\n",
              "    }\n",
              "\n",
              "    .dataframe thead th {\n",
              "        text-align: right;\n",
              "    }\n",
              "</style>\n",
              "<table border=\"1\" class=\"dataframe\">\n",
              "  <thead>\n",
              "    <tr style=\"text-align: right;\">\n",
              "      <th></th>\n",
              "      <th>0</th>\n",
              "    </tr>\n",
              "  </thead>\n",
              "  <tbody>\n",
              "    <tr>\n",
              "      <th>application_id</th>\n",
              "      <td>0</td>\n",
              "    </tr>\n",
              "    <tr>\n",
              "      <th>gender</th>\n",
              "      <td>0</td>\n",
              "    </tr>\n",
              "    <tr>\n",
              "      <th>international</th>\n",
              "      <td>0</td>\n",
              "    </tr>\n",
              "    <tr>\n",
              "      <th>gpa</th>\n",
              "      <td>0</td>\n",
              "    </tr>\n",
              "    <tr>\n",
              "      <th>major</th>\n",
              "      <td>0</td>\n",
              "    </tr>\n",
              "    <tr>\n",
              "      <th>race</th>\n",
              "      <td>1842</td>\n",
              "    </tr>\n",
              "    <tr>\n",
              "      <th>gmat</th>\n",
              "      <td>0</td>\n",
              "    </tr>\n",
              "    <tr>\n",
              "      <th>work_exp</th>\n",
              "      <td>0</td>\n",
              "    </tr>\n",
              "    <tr>\n",
              "      <th>work_industry</th>\n",
              "      <td>0</td>\n",
              "    </tr>\n",
              "    <tr>\n",
              "      <th>admission</th>\n",
              "      <td>5194</td>\n",
              "    </tr>\n",
              "  </tbody>\n",
              "</table>\n",
              "</div><br><label><b>dtype:</b> int64</label>"
            ]
          },
          "metadata": {},
          "execution_count": 31
        }
      ]
    },
    {
      "cell_type": "markdown",
      "source": [
        "#Menghapus baris atau kolom yang mengandung missing value"
      ],
      "metadata": {
        "id": "88mGpBIaRFtm"
      }
    },
    {
      "cell_type": "markdown",
      "source": [
        "Disini saya menghapus baris yang missing value dalam kolom admission dan race. Fungsi ini digunakan untuk menghapus semua baris dalam DataFrame df yang memiliki nilai null (hilang) pada kolom admission dan race."
      ],
      "metadata": {
        "id": "_4EWGbz5sy1G"
      }
    },
    {
      "cell_type": "code",
      "source": [
        "df = df.dropna(subset=['admission'])"
      ],
      "metadata": {
        "id": "QChCywFgRGJy"
      },
      "execution_count": 32,
      "outputs": []
    },
    {
      "cell_type": "code",
      "source": [
        "df = df.dropna(subset=['race'])"
      ],
      "metadata": {
        "id": "-0RvlbWETJQb"
      },
      "execution_count": 33,
      "outputs": []
    },
    {
      "cell_type": "markdown",
      "source": [
        "#Mengecek kembali missing value"
      ],
      "metadata": {
        "id": "pAwhjx46SEn3"
      }
    },
    {
      "cell_type": "code",
      "source": [
        "df.isnull().sum()"
      ],
      "metadata": {
        "colab": {
          "base_uri": "https://localhost:8080/",
          "height": 397
        },
        "id": "34QNcbi_RuH1",
        "outputId": "940cd778-17ed-4e03-e65b-f5f683b3d19a"
      },
      "execution_count": 34,
      "outputs": [
        {
          "output_type": "execute_result",
          "data": {
            "text/plain": [
              "application_id    0\n",
              "gender            0\n",
              "international     0\n",
              "gpa               0\n",
              "major             0\n",
              "race              0\n",
              "gmat              0\n",
              "work_exp          0\n",
              "work_industry     0\n",
              "admission         0\n",
              "dtype: int64"
            ],
            "text/html": [
              "<div>\n",
              "<style scoped>\n",
              "    .dataframe tbody tr th:only-of-type {\n",
              "        vertical-align: middle;\n",
              "    }\n",
              "\n",
              "    .dataframe tbody tr th {\n",
              "        vertical-align: top;\n",
              "    }\n",
              "\n",
              "    .dataframe thead th {\n",
              "        text-align: right;\n",
              "    }\n",
              "</style>\n",
              "<table border=\"1\" class=\"dataframe\">\n",
              "  <thead>\n",
              "    <tr style=\"text-align: right;\">\n",
              "      <th></th>\n",
              "      <th>0</th>\n",
              "    </tr>\n",
              "  </thead>\n",
              "  <tbody>\n",
              "    <tr>\n",
              "      <th>application_id</th>\n",
              "      <td>0</td>\n",
              "    </tr>\n",
              "    <tr>\n",
              "      <th>gender</th>\n",
              "      <td>0</td>\n",
              "    </tr>\n",
              "    <tr>\n",
              "      <th>international</th>\n",
              "      <td>0</td>\n",
              "    </tr>\n",
              "    <tr>\n",
              "      <th>gpa</th>\n",
              "      <td>0</td>\n",
              "    </tr>\n",
              "    <tr>\n",
              "      <th>major</th>\n",
              "      <td>0</td>\n",
              "    </tr>\n",
              "    <tr>\n",
              "      <th>race</th>\n",
              "      <td>0</td>\n",
              "    </tr>\n",
              "    <tr>\n",
              "      <th>gmat</th>\n",
              "      <td>0</td>\n",
              "    </tr>\n",
              "    <tr>\n",
              "      <th>work_exp</th>\n",
              "      <td>0</td>\n",
              "    </tr>\n",
              "    <tr>\n",
              "      <th>work_industry</th>\n",
              "      <td>0</td>\n",
              "    </tr>\n",
              "    <tr>\n",
              "      <th>admission</th>\n",
              "      <td>0</td>\n",
              "    </tr>\n",
              "  </tbody>\n",
              "</table>\n",
              "</div><br><label><b>dtype:</b> int64</label>"
            ]
          },
          "metadata": {},
          "execution_count": 34
        }
      ]
    },
    {
      "cell_type": "markdown",
      "source": [
        "# Melihat jumlah duplicate value"
      ],
      "metadata": {
        "id": "yt1usEwGSttX"
      }
    },
    {
      "cell_type": "markdown",
      "source": [
        "Fungsi ini digunakan untuk mengembalikan boolean yang menunjukkan apakah setiap baris dalam DataFrame adalah duplikat (True) atau (False)."
      ],
      "metadata": {
        "id": "R4m95LoNtngB"
      }
    },
    {
      "cell_type": "code",
      "source": [
        "duplicate = df.duplicated().sum()\n",
        "print('Jumlah nilai duplikat pada data: ', duplicate)"
      ],
      "metadata": {
        "colab": {
          "base_uri": "https://localhost:8080/"
        },
        "id": "vtdY84gVSKlC",
        "outputId": "7c9080a1-3e47-4444-a0f1-8806f155f854"
      },
      "execution_count": 35,
      "outputs": [
        {
          "output_type": "stream",
          "name": "stdout",
          "text": [
            "Jumlah nilai duplikat pada data:  0\n"
          ]
        }
      ]
    },
    {
      "cell_type": "markdown",
      "source": [
        "#Normalisasi kolom numerik"
      ],
      "metadata": {
        "id": "uQpnyKOGTQND"
      }
    },
    {
      "cell_type": "markdown",
      "source": [
        "fungsi ini digunakan untuk melakukan normalisasi pada kolom-kolom numerik dalam dataset, mengubah rentang nilai menjadi antara 0 dan 1, sehingga siap untuk analisis atau pemodelan lebih lanjut."
      ],
      "metadata": {
        "id": "FXkXZCRRt3Td"
      }
    },
    {
      "cell_type": "code",
      "source": [
        "from sklearn.preprocessing import StandardScaler\n",
        "\n",
        "# Normalisasi kolom numerik\n",
        "scaler = StandardScaler()\n",
        "df[numerical_cols] = scaler.fit_transform(df[numerical_cols])\n"
      ],
      "metadata": {
        "id": "jpUUPQtYXM6g"
      },
      "execution_count": 36,
      "outputs": []
    },
    {
      "cell_type": "markdown",
      "source": [
        "#one hot Encoding kolom kategorikal"
      ],
      "metadata": {
        "id": "JJ9Pi60IZlXj"
      }
    },
    {
      "cell_type": "markdown",
      "source": [
        "One-Hot Encoding menggunakan pandas, fungsi pd.get_dummies() digunakan untuk mengonversi kolom gender menjadi beberapa kolom biner, di mana setiap kolom baru mewakili satu kategori dari gender (misalnya, \"Male\" dan \"Female\"), dengan nilai 0 atau 1. Kolom hasil encoding ini kemudian digabungkan kembali ke DataFrame asli menggunakan metode join(), sehingga df kini memiliki kolom-kolom baru untuk kategori gender."
      ],
      "metadata": {
        "id": "QkHcL5XSZu7f"
      }
    },
    {
      "cell_type": "code",
      "source": [
        "# One-Hot Encoding untuk kolom kategorikal\n",
        "df_encoded = pd.get_dummies(df, columns=['gender', 'major', 'race', 'work_industry'], drop_first=True)\n"
      ],
      "metadata": {
        "id": "lrbv-UkZZlgs"
      },
      "execution_count": 37,
      "outputs": []
    },
    {
      "cell_type": "markdown",
      "source": [
        "# Feature Engineering"
      ],
      "metadata": {
        "id": "8DvU2pZenI6b"
      }
    },
    {
      "cell_type": "markdown",
      "source": [
        "Fitur yang saya buat adalah Weighted_Score yaitu hasil dari gabungan gpa dan gmat. Hal ini dilakukan guna untuk membuat keputusan berbasis data di mana kedua faktor ini dipertimbangkan secara proporsional sesuai dengan bobot yang diberikan."
      ],
      "metadata": {
        "id": "7EUVk_dzwu7o"
      }
    },
    {
      "cell_type": "code",
      "source": [
        "# Feature Engineering\n",
        "df_encoded['gpa_gmat_ratio'] = df_encoded['gpa'] / (df_encoded['gmat'] + 1e-5)  # Menghindari pembagian nol\n"
      ],
      "metadata": {
        "id": "a4i7OoL_nJC-"
      },
      "execution_count": 38,
      "outputs": []
    },
    {
      "cell_type": "markdown",
      "source": [
        "# Splitting data ke dalam data training & data testing"
      ],
      "metadata": {
        "id": "IZ9jkqtorBQc"
      }
    },
    {
      "cell_type": "markdown",
      "source": [
        "Jadi, kode ini membagi dataset menjadi dua bagian: 80% data pelatihan dan 20% data pengujian. Ini dilakukan dengan menggunakan fungsi \"train_test_split\" dari \"sklearn.\" Variabel \"X\" menyimpan fitur (kolom kecuali kolom terakhir), sedangkan variabel \"y\" menyimpan target (kolom kecuali kolom terakhir). Pembagian data pelatihan ini digunakan untuk membangun model, sementara data pengujian digunakan untuk mengevaluasi kinerja model."
      ],
      "metadata": {
        "id": "XVQxEhhPyeeE"
      }
    },
    {
      "cell_type": "code",
      "source": [
        "from sklearn.model_selection import train_test_split\n",
        "\n",
        "# Menentukan X (fitur) dan y (target)\n",
        "X = df_encoded.drop(columns=['application_id', 'admission'])\n",
        "y = df_encoded['admission'].apply(lambda x: 1 if x == 'Admit' else 0)\n",
        "\n",
        "# Membagi dataset\n",
        "X_train, X_test, y_train, y_test = train_test_split(X, y, test_size=0.2, random_state=42)\n"
      ],
      "metadata": {
        "id": "V8UpstEta8Eq"
      },
      "execution_count": 39,
      "outputs": []
    },
    {
      "cell_type": "markdown",
      "source": [
        "<font size=\"15\">**POSTTEST 4**</font>"
      ],
      "metadata": {
        "id": "aQKq-HNDObks"
      }
    },
    {
      "cell_type": "code",
      "source": [
        "df = pd.read_csv('mbadataset.csv')\n",
        "\n",
        "print(df.info())"
      ],
      "metadata": {
        "colab": {
          "base_uri": "https://localhost:8080/"
        },
        "id": "qGaEiVbQObyp",
        "outputId": "4e5ba732-e3b2-4e0d-be51-4be75eb048ec"
      },
      "execution_count": 40,
      "outputs": [
        {
          "output_type": "stream",
          "name": "stdout",
          "text": [
            "<class 'pandas.core.frame.DataFrame'>\n",
            "RangeIndex: 6194 entries, 0 to 6193\n",
            "Data columns (total 10 columns):\n",
            " #   Column          Non-Null Count  Dtype  \n",
            "---  ------          --------------  -----  \n",
            " 0   application_id  6194 non-null   int64  \n",
            " 1   gender          6194 non-null   object \n",
            " 2   international   6194 non-null   bool   \n",
            " 3   gpa             6194 non-null   float64\n",
            " 4   major           6194 non-null   object \n",
            " 5   race            4352 non-null   object \n",
            " 6   gmat            6194 non-null   float64\n",
            " 7   work_exp        6194 non-null   float64\n",
            " 8   work_industry   6194 non-null   object \n",
            " 9   admission       1000 non-null   object \n",
            "dtypes: bool(1), float64(3), int64(1), object(5)\n",
            "memory usage: 441.7+ KB\n",
            "None\n"
          ]
        }
      ]
    },
    {
      "cell_type": "markdown",
      "source": [
        "#Membangun Model Support Vector Classifier (SVC)"
      ],
      "metadata": {
        "id": "MeVHyCVJP2ex"
      }
    },
    {
      "cell_type": "code",
      "source": [
        "from sklearn.svm import SVC\n",
        "\n",
        "# Inisialisasi dan melatih model SVC\n",
        "svc_model = SVC()\n",
        "svc_model.fit(X_train, y_train)\n",
        "\n",
        "# Membuat prediksi\n",
        "y_pred = svc_model.predict(X_test)"
      ],
      "metadata": {
        "id": "C_WTdT9IP2mr"
      },
      "execution_count": 41,
      "outputs": []
    },
    {
      "cell_type": "markdown",
      "source": [
        "# Evaluasi dengan Confusion Matrix"
      ],
      "metadata": {
        "id": "QuQr9uzoZs6L"
      }
    },
    {
      "cell_type": "code",
      "source": [
        "from sklearn.metrics import confusion_matrix, classification_report\n",
        "\n",
        "# Evaluasi menggunakan Confusion Matrix dan Classification Report\n",
        "conf_matrix = confusion_matrix(y_test, y_pred)\n",
        "class_report = classification_report(y_test, y_pred)\n",
        "\n",
        "print(conf_matrix)\n",
        "print(class_report)"
      ],
      "metadata": {
        "colab": {
          "base_uri": "https://localhost:8080/"
        },
        "id": "42VsTW50ZtBg",
        "outputId": "d2496e23-c7bd-4134-f665-e7cde640d376"
      },
      "execution_count": 42,
      "outputs": [
        {
          "output_type": "stream",
          "name": "stdout",
          "text": [
            "[[  0  16]\n",
            " [  0 123]]\n",
            "              precision    recall  f1-score   support\n",
            "\n",
            "           0       0.00      0.00      0.00        16\n",
            "           1       0.88      1.00      0.94       123\n",
            "\n",
            "    accuracy                           0.88       139\n",
            "   macro avg       0.44      0.50      0.47       139\n",
            "weighted avg       0.78      0.88      0.83       139\n",
            "\n"
          ]
        },
        {
          "output_type": "stream",
          "name": "stderr",
          "text": [
            "/usr/local/lib/python3.10/dist-packages/sklearn/metrics/_classification.py:1531: UndefinedMetricWarning: Precision is ill-defined and being set to 0.0 in labels with no predicted samples. Use `zero_division` parameter to control this behavior.\n",
            "  _warn_prf(average, modifier, f\"{metric.capitalize()} is\", len(result))\n",
            "/usr/local/lib/python3.10/dist-packages/sklearn/metrics/_classification.py:1531: UndefinedMetricWarning: Precision is ill-defined and being set to 0.0 in labels with no predicted samples. Use `zero_division` parameter to control this behavior.\n",
            "  _warn_prf(average, modifier, f\"{metric.capitalize()} is\", len(result))\n",
            "/usr/local/lib/python3.10/dist-packages/sklearn/metrics/_classification.py:1531: UndefinedMetricWarning: Precision is ill-defined and being set to 0.0 in labels with no predicted samples. Use `zero_division` parameter to control this behavior.\n",
            "  _warn_prf(average, modifier, f\"{metric.capitalize()} is\", len(result))\n"
          ]
        }
      ]
    },
    {
      "cell_type": "markdown",
      "source": [
        "# Plot Hasil Prediksi"
      ],
      "metadata": {
        "id": "SVvqa8JZbFLJ"
      }
    },
    {
      "cell_type": "code",
      "source": [
        "import seaborn as sns\n",
        "import matplotlib.pyplot as plt\n",
        "\n",
        "# Plot Confusion Matrix\n",
        "plt.figure(figsize=(8, 6))\n",
        "sns.heatmap(conf_matrix, annot=True, fmt='d', cmap='Blues')\n",
        "plt.title('Confusion Matrix')\n",
        "plt.xlabel('Predicted')\n",
        "plt.ylabel('Actual')\n",
        "plt.show()\n"
      ],
      "metadata": {
        "colab": {
          "base_uri": "https://localhost:8080/",
          "height": 564
        },
        "id": "WoZ1uIdBbFUn",
        "outputId": "fb0abf44-f226-4a84-afdb-0b29946acd16"
      },
      "execution_count": 43,
      "outputs": [
        {
          "output_type": "display_data",
          "data": {
            "text/plain": [
              "<Figure size 800x600 with 2 Axes>"
            ],
            "image/png": "[encoded data removed]"
          },
          "metadata": {}
        }
      ]
    },
    {
      "cell_type": "markdown",
      "source": [
        "<font size=\"15\">**POSTTEST 5**</font>"
      ],
      "metadata": {
        "id": "6QXy7DGPlml-"
      }
    },
    {
      "cell_type": "markdown",
      "source": [
        "#Akurasi Training dan validation"
      ],
      "metadata": {
        "id": "GgE8lVXeKTe9"
      }
    },
    {
      "cell_type": "markdown",
      "source": [
        "dengan menggunakan metode.score() dari model yang digunakan untuk menghitung dan memverifikasi akurasi model. Dalam kasus di mana SVC digunakan, pertama-tama melatih model menggunakan data csv, subset dari dataset. Setelah model dilatih, menggunakan svc_model.score(X_train, y_train) untuk menghitung akurasi data pelatihan. Perhitungan ini menghasilkan nilai yang menunjukkan seberapa baik model dapat mengklasifikasikan data yang digunakan untuk pelatihan. Selanjutnya, memvalidasi data yang tidak pernah dilihat oleh model sebelumnya. melakukan ini dengan metode yang sama dan menghitung akurasi data pengujian dengan svc_model.score(X_test, y_test).\n",
        "\n",
        "\n"
      ],
      "metadata": {
        "id": "Uh1M1mg9mP-g"
      }
    },
    {
      "cell_type": "code",
      "source": [
        "train_accuracy = svc_model.score(X_train, y_train)\n",
        "test_accuracy = svc_model.score(X_test, y_test)\n",
        "\n",
        "print(f\"Akurasi Training: {train_accuracy * 100:.2f}%\")\n",
        "print(f\"Akurasi Validation: {test_accuracy * 100:.2f}%\")\n"
      ],
      "metadata": {
        "colab": {
          "base_uri": "https://localhost:8080/"
        },
        "id": "8xacqFOiKTrz",
        "outputId": "c3bcfa51-9fb6-44f9-a396-b86c7c48fe19"
      },
      "execution_count": 44,
      "outputs": [
        {
          "output_type": "stream",
          "name": "stdout",
          "text": [
            "Akurasi Training: 90.24%\n",
            "Akurasi Validation: 88.49%\n"
          ]
        }
      ]
    },
    {
      "cell_type": "markdown",
      "source": [
        "# Model Deeplearning"
      ],
      "metadata": {
        "id": "JicnNLc9KgdQ"
      }
    },
    {
      "cell_type": "markdown",
      "source": [
        "Model deep learning dibangun dengan terdiri dari beberapa lapisan, termasuk lapisan input, lapisan tersembunyi, dan lapisan output. saya menggunakan TensorFlow atau Keras untuk mendefinisikan struktur model. selanjutnya, saya menginisialisasi model dengan menggunakan \"Sequential\", yang memungkinkan untuk menambahkan fungsi aktivasi berurutan, seperti \"Dense\" dan \"ReLU\". Setelah model dibangun, selanjutnya mengompilasi model ,kemudian melatih model menggunakan data pelatihan menggunakan metode \"fit()\", yang memungkinkan kita untuk menetapkan jumlah epoch dan ukuran batch."
      ],
      "metadata": {
        "id": "LQFf_y8imre3"
      }
    },
    {
      "cell_type": "code",
      "source": [
        "from tensorflow.keras.models import Sequential\n",
        "from tensorflow.keras.layers import Dense\n",
        "\n",
        "# Inisialisasi model Sequential\n",
        "model = Sequential()\n",
        "\n",
        "# Menambahkan layer pada model\n",
        "model.add(Dense(64, input_dim=X_train.shape[1], activation='relu'))\n",
        "model.add(Dense(32, activation='relu'))\n",
        "model.add(Dense(1, activation='sigmoid'))\n",
        "\n",
        "# Compile model\n",
        "model.compile(optimizer='adam', loss='binary_crossentropy', metrics=['accuracy'])\n",
        "\n",
        "# Melatih model\n",
        "history = model.fit(X_train, y_train, epochs=10, batch_size=32, validation_data=(X_test, y_test))\n",
        "\n",
        "# Evaluasi model\n",
        "loss, accuracy = model.evaluate(X_test, y_test)\n",
        "print(f\"Akurasi Model Deep Learning: {accuracy * 100:.2f}%\")\n"
      ],
      "metadata": {
        "colab": {
          "base_uri": "https://localhost:8080/"
        },
        "id": "ioWT3zO3Kgsl",
        "outputId": "d28f2e03-eeae-4e2f-d6ea-673bd6376bac"
      },
      "execution_count": 45,
      "outputs": [
        {
          "output_type": "stream",
          "name": "stderr",
          "text": [
            "/usr/local/lib/python3.10/dist-packages/keras/src/layers/core/dense.py:87: UserWarning: Do not pass an `input_shape`/`input_dim` argument to a layer. When using Sequential models, prefer using an `Input(shape)` object as the first layer in the model instead.\n",
            "  super().__init__(activity_regularizer=activity_regularizer, **kwargs)\n"
          ]
        },
        {
          "output_type": "stream",
          "name": "stdout",
          "text": [
            "Epoch 1/10\n",
            "\u001b[1m18/18\u001b[0m \u001b[32m━━━━━━━━━━━━━━━━━━━━\u001b[0m\u001b[37m\u001b[0m \u001b[1m4s\u001b[0m 104ms/step - accuracy: 0.7889 - loss: 0.5916 - val_accuracy: 0.8849 - val_loss: 0.4343\n",
            "Epoch 2/10\n",
            "\u001b[1m18/18\u001b[0m \u001b[32m━━━━━━━━━━━━━━━━━━━━\u001b[0m\u001b[37m\u001b[0m \u001b[1m0s\u001b[0m 5ms/step - accuracy: 0.8897 - loss: 0.4332 - val_accuracy: 0.8849 - val_loss: 0.3871\n",
            "Epoch 3/10\n",
            "\u001b[1m18/18\u001b[0m \u001b[32m━━━━━━━━━━━━━━━━━━━━\u001b[0m\u001b[37m\u001b[0m \u001b[1m0s\u001b[0m 5ms/step - accuracy: 0.9056 - loss: 0.3460 - val_accuracy: 0.8849 - val_loss: 0.3883\n",
            "Epoch 4/10\n",
            "\u001b[1m18/18\u001b[0m \u001b[32m━━━━━━━━━━━━━━━━━━━━\u001b[0m\u001b[37m\u001b[0m \u001b[1m0s\u001b[0m 6ms/step - accuracy: 0.9057 - loss: 0.3384 - val_accuracy: 0.8849 - val_loss: 0.3930\n",
            "Epoch 5/10\n",
            "\u001b[1m18/18\u001b[0m \u001b[32m━━━━━━━━━━━━━━━━━━━━\u001b[0m\u001b[37m\u001b[0m \u001b[1m0s\u001b[0m 7ms/step - accuracy: 0.9004 - loss: 0.3281 - val_accuracy: 0.8849 - val_loss: 0.3988\n",
            "Epoch 6/10\n",
            "\u001b[1m18/18\u001b[0m \u001b[32m━━━━━━━━━━━━━━━━━━━━\u001b[0m\u001b[37m\u001b[0m \u001b[1m0s\u001b[0m 5ms/step - accuracy: 0.9083 - loss: 0.2987 - val_accuracy: 0.8849 - val_loss: 0.4032\n",
            "Epoch 7/10\n",
            "\u001b[1m18/18\u001b[0m \u001b[32m━━━━━━━━━━━━━━━━━━━━\u001b[0m\u001b[37m\u001b[0m \u001b[1m0s\u001b[0m 3ms/step - accuracy: 0.9018 - loss: 0.3127 - val_accuracy: 0.8849 - val_loss: 0.4083\n",
            "Epoch 8/10\n",
            "\u001b[1m18/18\u001b[0m \u001b[32m━━━━━━━━━━━━━━━━━━━━\u001b[0m\u001b[37m\u001b[0m \u001b[1m0s\u001b[0m 3ms/step - accuracy: 0.8993 - loss: 0.3012 - val_accuracy: 0.8849 - val_loss: 0.4124\n",
            "Epoch 9/10\n",
            "\u001b[1m18/18\u001b[0m \u001b[32m━━━━━━━━━━━━━━━━━━━━\u001b[0m\u001b[37m\u001b[0m \u001b[1m0s\u001b[0m 4ms/step - accuracy: 0.8942 - loss: 0.2966 - val_accuracy: 0.8849 - val_loss: 0.4174\n",
            "Epoch 10/10\n",
            "\u001b[1m18/18\u001b[0m \u001b[32m━━━━━━━━━━━━━━━━━━━━\u001b[0m\u001b[37m\u001b[0m \u001b[1m0s\u001b[0m 4ms/step - accuracy: 0.9086 - loss: 0.2773 - val_accuracy: 0.8849 - val_loss: 0.4258\n",
            "\u001b[1m5/5\u001b[0m \u001b[32m━━━━━━━━━━━━━━━━━━━━\u001b[0m\u001b[37m\u001b[0m \u001b[1m0s\u001b[0m 4ms/step - accuracy: 0.8683 - loss: 0.4897 \n",
            "Akurasi Model Deep Learning: 88.49%\n"
          ]
        }
      ]
    }
  ]
}